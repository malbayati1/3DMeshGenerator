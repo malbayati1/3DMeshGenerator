{
 "cells": [
  {
   "cell_type": "markdown",
   "metadata": {},
   "source": [
    "# Assignment 3 : Calibration"
   ]
  },
  {
   "cell_type": "markdown",
   "metadata": {},
   "source": [
    "---\n",
    "Please edit the cell below to include your name and student ID #"
   ]
  },
  {
   "cell_type": "markdown",
   "metadata": {},
   "source": [
    "**name: Muhammad Albayati**\n",
    "\n",
    "**SID: 84652863**"
   ]
  },
  {
   "cell_type": "markdown",
   "metadata": {},
   "source": [
    "# 1. Parameterizing 3D Rotations\n",
    "\n",
    "In order to optimize over the camera rotation during calibration, we need a way to parameterize the space of 3D rotations. There are many different ways to do this and each comes with different tradeoffs, but for our purposes we will adopt a simple approach of building a rotation by a sequence of rotations around the X, Y and Z axes (so called *Tait-Bryan angles*, see https://en.wikipedia.org/wiki/Euler_angles for more discussion)\n",
    "\n",
    "## 1.1 Implement\n",
    "\n",
    "Write a function **makerotation** which takes as input three angles **rx,ry,rz** and returns a rotation matrix corresponding to rotating by **rx** degrees around the x-axis, followed by a rotation of **ry** degrees around the y-axis, followed by a rotation of **rz** degrees around the z-axis. "
   ]
  },
  {
   "cell_type": "code",
   "execution_count": 1,
   "metadata": {},
   "outputs": [],
   "source": [
    "import numpy as np\n",
    "import matplotlib.pyplot as plt\n",
    "import scipy.optimize\n",
    "import matplotlib.patches as patches\n",
    "from mpl_toolkits.mplot3d import Axes3D\n",
    "import visutils\n",
    "%matplotlib inline"
   ]
  },
  {
   "cell_type": "code",
   "execution_count": 2,
   "metadata": {},
   "outputs": [],
   "source": [
    "def makerotation(rx,ry,rz):\n",
    "    \"\"\"\n",
    "    Generate a rotation matrix    \n",
    "\n",
    "    Parameters\n",
    "    ----------\n",
    "    rx,ry,rz : floats\n",
    "        Amount to rotate around x, y and z axes in degrees\n",
    "\n",
    "    Returns\n",
    "    -------\n",
    "    R : 2D numpy.array (dtype=float)\n",
    "        Rotation matrix of shape (3,3)\n",
    "    \"\"\"\n",
    "    \n",
    "    cos = np.cos(rx*np.pi/180)\n",
    "    sin = np.sin(rx*np.pi/180)\n",
    "    xRotation = np.array([[1, 0, 0],\n",
    "                        [0, cos, -sin], \n",
    "                        [0, sin, cos]])\n",
    "    \n",
    "    cos = np.cos(ry*np.pi/180)\n",
    "    sin = np.sin(ry*np.pi/180)\n",
    "    yRotation = np.array([[cos, 0, sin],\n",
    "                         [0, 1, 0],\n",
    "                         [-sin, 0, cos]])\n",
    "    \n",
    "    cos = np.cos(rz*np.pi/180)\n",
    "    sin = np.sin(rz*np.pi/180)\n",
    "    zRotation = np.array([[cos, -sin, 0],\n",
    "                         [sin, cos, 0],\n",
    "                         [0, 0, 1]])\n",
    "    \n",
    "    R = zRotation@yRotation@xRotation\n",
    "    return R\n",
    "    "
   ]
  },
  {
   "cell_type": "markdown",
   "metadata": {},
   "source": [
    "## 1.2 Test\n",
    "\n",
    "Execute the test examples below and verify/convince yourself that the results are correct.\n",
    "\n",
    "Find a way to achieve the same rotation as **makerotation(90,90,0)** but without using rotation around the x-axis.  That is, determine some angles so that **makerotation(0,?,?) == makerotation(90,90,0)**\n"
   ]
  },
  {
   "cell_type": "code",
   "execution_count": 3,
   "metadata": {},
   "outputs": [
    {
     "name": "stdout",
     "output_type": "stream",
     "text": [
      "[[ 1.  0.  0.]\n",
      " [ 0.  0. -1.]\n",
      " [ 0.  1.  0.]]\n",
      "[[ 0.  0.  1.]\n",
      " [ 0.  1.  0.]\n",
      " [-1.  0.  0.]]\n",
      "[[ 0. -1.  0.]\n",
      " [ 1.  0.  0.]\n",
      " [ 0.  0.  1.]]\n",
      "[[ 0.  1.  0.]\n",
      " [ 0.  0. -1.]\n",
      " [-1.  0.  0.]]\n",
      "[[ 0.  1.  0.]\n",
      " [-0.  0. -1.]\n",
      " [-1.  0.  0.]]\n"
     ]
    }
   ],
   "source": [
    "#\n",
    "# test your function on some simple examples\n",
    "#\n",
    "np.set_printoptions(precision=4,suppress=True)\n",
    "\n",
    "print(makerotation(90,0,0))\n",
    "\n",
    "print(makerotation(0,90,0))\n",
    "\n",
    "print(makerotation(0,0,90))\n",
    "\n",
    "print(makerotation(90,90,0))\n",
    "\n",
    "ry = 90\n",
    "rz = -90\n",
    "print(makerotation(0,ry,rz))\n",
    "\n",
    "# figure out what ry,rz values are needed in order to pass this test\n",
    "assert((makerotation(90,90,0)-makerotation(0,ry,rz)<1e-9).all())"
   ]
  },
  {
   "cell_type": "markdown",
   "metadata": {},
   "source": [
    "# 2. Reprojection Error\n",
    "\n",
    "We will now specify a function which computes the reprojection error.  This is the function that we will later optimize when calibrating the camera extrinsic parameters. Take a look at the documentation for **scipy.optimize.leastsq**.  The optimizer expects that our function should take a vector of parameters and \n",
    "return a vector of residuals which it will square and sum up to get the total error. For this reason, we will structure our code in the following way. \n",
    "\n",
    "First, write a member function for the Camera class called **update_extrinsics** which takes a vector of 6 parameters (rx,ry,rz,tx,ty,tz). The function should keep the same intrinsic parameters (f,c) but update the extrinsic parameters (R,t) based on the entries in the parameter vector.  \n",
    "\n",
    "Second, implement a function named **residuals** which computes the difference between a provided set of 2D point coordinates and the projection of 3D point coordinates by specified camera.  The residuals function takes as input the 3D points, the target 2D points, a camera with specified intrinsic parameters, and an extrinsic parameter vector. You should use **update_extrinsics** to update the extrinsic parameters, compute the projection of the 3D points with the updated camera and return a 1D vector containing the differences of all the x and y coordinates.\n"
   ]
  },
  {
   "cell_type": "code",
   "execution_count": 4,
   "metadata": {},
   "outputs": [],
   "source": [
    "class Camera:\n",
    "    \"\"\"\n",
    "    A simple data structure describing camera parameters \n",
    "    \n",
    "    The parameters describing the camera\n",
    "    cam.f : float   --- camera focal length (in units of pixels)\n",
    "    cam.c : 2x1 vector  --- offset of principle point\n",
    "    cam.R : 3x3 matrix --- camera rotation\n",
    "    cam.t : 3x1 vector --- camera translation \n",
    "    \n",
    "    \"\"\"\n",
    "    \n",
    "    def __init__(self,f,c,R,t):\n",
    "        self.f = f\n",
    "        self.c = c\n",
    "        self.R = R\n",
    "        self.t = t\n",
    "\n",
    "    def __str__(self):\n",
    "        return f'Camera : \\n f={self.f} \\n c={self.c.T} \\n R={self.R} \\n t = {self.t.T}'\n",
    "    \n",
    "    def project(self,pts3):\n",
    "        \"\"\"\n",
    "        Project the given 3D points in world coordinates into the specified camera    \n",
    "\n",
    "        Parameters\n",
    "        ----------\n",
    "        pts3 : 2D numpy.array (dtype=float)\n",
    "            Coordinates of N points stored in a array of shape (3,N)\n",
    "\n",
    "        Returns\n",
    "        -------\n",
    "        pts2 : 2D numpy.array (dtype=float)\n",
    "            Image coordinates of N points stored in an array of shape (2,N)\n",
    "\n",
    "        \"\"\"\n",
    "        pcam = self.R.transpose() @ (pts3 - self.t)\n",
    "        \n",
    "        p = self.f * (pcam / pcam[2, :])\n",
    "        \n",
    "        pts2 = p[0:2,:] + self.c\n",
    "        \n",
    "        return pts2\n",
    " \n",
    "    def update_extrinsics(self,params):\n",
    "        \"\"\"\n",
    "        Given a vector of extrinsic parameters, update the camera\n",
    "        to use the provided parameters.\n",
    "  \n",
    "        Parameters\n",
    "        ----------\n",
    "        params : 1D numpy.array (dtype=float)\n",
    "            Camera parameters we are optimizing over stored in a vector\n",
    "            params[0:2] are the rotation angles, params[2:5] are the translation\n",
    "\n",
    "        \"\"\" \n",
    "        rx = params[0]\n",
    "        ry = params[1]\n",
    "        rz = params[2]\n",
    "        \n",
    "        cos = np.cos(rx*np.pi/180)\n",
    "        sin = np.sin(rx*np.pi/180)\n",
    "        xRotation = np.array([[1, 0, 0],\n",
    "                            [0, cos, -sin], \n",
    "                            [0, sin, cos]])\n",
    "\n",
    "        cos = np.cos(ry*np.pi/180)\n",
    "        sin = np.sin(ry*np.pi/180)\n",
    "        yRotation = np.array([[cos, 0, sin],\n",
    "                             [0, 1, 0],\n",
    "                             [-sin, 0, cos]])\n",
    "\n",
    "        cos = np.cos(rz*np.pi/180)\n",
    "        sin = np.sin(rz*np.pi/180)\n",
    "        zRotation = np.array([[cos, -sin, 0],\n",
    "                             [sin, cos, 0],\n",
    "                             [0, 0, 1]])\n",
    "\n",
    "        self.R = zRotation@yRotation@xRotation\n",
    "        \n",
    "        tx = params[3]\n",
    "        ty = params[4]\n",
    "        tz = params[5]\n",
    "        \n",
    "        translation = np.array([[tx],\n",
    "                               [ty],\n",
    "                               [tz]])\n",
    "        \n",
    "        self.t = translation"
   ]
  },
  {
   "cell_type": "code",
   "execution_count": 5,
   "metadata": {},
   "outputs": [],
   "source": [
    "def residuals(pts3,pts2,cam,params):\n",
    "    \"\"\"\n",
    "    Compute the difference between the projection of 3D points by the camera\n",
    "    with the given parameters and the observed 2D locations\n",
    "\n",
    "    Parameters\n",
    "    ----------\n",
    "    pts3 : 2D numpy.array (dtype=float)\n",
    "        Coordinates of N points stored in a array of shape (3,N)\n",
    "\n",
    "    pts2 : 2D numpy.array (dtype=float)\n",
    "        Coordinates of N points stored in a array of shape (2,N)\n",
    "\n",
    "    params : 1D numpy.array (dtype=float)\n",
    "        Camera parameters we are optimizing stored in a vector of shape (6)\n",
    "\n",
    "    Returns\n",
    "    -------\n",
    "    residual : 1D numpy.array (dtype=float)\n",
    "        Vector of residual 2D projection errors of size 2*N\n",
    "        \n",
    "    \"\"\"\n",
    "    cam.update_extrinsics(params)\n",
    "    \n",
    "    projection = cam.project(pts3)\n",
    "    difference = np.subtract(pts2, projection)\n",
    "    residual = np.asarray(difference).flatten()\n",
    "    \n",
    "    return residual\n",
    "    "
   ]
  },
  {
   "cell_type": "code",
   "execution_count": 6,
   "metadata": {},
   "outputs": [
    {
     "name": "stdout",
     "output_type": "stream",
     "text": [
      "Camera : \n",
      " f=200 \n",
      " c=[[50 50]] \n",
      " R=[[1. 0. 0.]\n",
      " [0. 1. 0.]\n",
      " [0. 0. 1.]] \n",
      " t = [[ 0.5  0.5 -2.5]]\n",
      "Camera : \n",
      " f=200 \n",
      " c=[[50 50]] \n",
      " R=[[ 0.9962 -0.0872  0.    ]\n",
      " [ 0.0872  0.9962  0.    ]\n",
      " [ 0.      0.      1.    ]] \n",
      " t = [[ 0.5  0.5 -3. ]]\n"
     ]
    },
    {
     "data": {
      "image/png": "[encoded data removed]",
      "text/plain": [
       "<Figure size 432x288 with 1 Axes>"
      ]
     },
     "metadata": {
      "needs_background": "light"
     },
     "output_type": "display_data"
    },
    {
     "name": "stdout",
     "output_type": "stream",
     "text": [
      "\n",
      " residuals of camB relative to camA\n",
      "[-3.8883 -1.4877 -5.8455 -9.6987  3.8883  9.6987  5.8455  1.4877 -9.6987\n",
      " -5.8455  1.4877  3.8883  9.6987 -3.8883 -1.4877  5.8455]\n",
      "[[-3.8883 -1.4877 -5.8455 -9.6987  3.8883  9.6987  5.8455  1.4877]\n",
      " [-9.6987 -5.8455  1.4877  3.8883  9.6987 -3.8883 -1.4877  5.8455]]\n",
      "\n",
      " residuals of camA relative to camB\n",
      "[ 3.8883  1.4877  5.8455  9.6987 -3.8883 -9.6987 -5.8455 -1.4877  9.6987\n",
      "  5.8455 -1.4877 -3.8883 -9.6987  3.8883  1.4877 -5.8455]\n",
      "[[ 3.8883  1.4877  5.8455  9.6987 -3.8883 -9.6987 -5.8455 -1.4877]\n",
      " [ 9.6987  5.8455 -1.4877 -3.8883 -9.6987  3.8883  1.4877 -5.8455]]\n"
     ]
    }
   ],
   "source": [
    "#\n",
    "# Test the residual function to make sure it is doing the right thing.\n",
    "#\n",
    "\n",
    "# create two cameras with same intrinsic but slightly different extrinsic parameters\n",
    "camA = Camera(f=200,c=np.array([[50,50]]).T,t=np.array([[0,0,0]]).T, R=makerotation(0,0,0))\n",
    "camB = Camera(f=200,c=np.array([[50,50]]).T,t=np.array([[0,0,0]]).T, R=makerotation(0,0,0))\n",
    "\n",
    "paramsA = np.array([0,0,0,0.5,0.5,-2.5])\n",
    "paramsB = np.array([0,0,5,0.5,0.5,-3])\n",
    "camA.update_extrinsics(paramsA)\n",
    "camB.update_extrinsics(paramsB)\n",
    "\n",
    "print(camA)\n",
    "print(camB)\n",
    "\n",
    "# create a test object (corners of a 3D cube) \n",
    "pts3 = np.array([[0,0,0],[0,0,1],[0,1,1],[0,1,0],[1,1,0],[1,0,0],[1,0,1],[1,1,1]]).T\n",
    "\n",
    "# visualize the two projections\n",
    "pts2A = camA.project(pts3)\n",
    "pts2B = camB.project(pts3)\n",
    "\n",
    "plt.plot(pts2A[0,:],pts2A[1,:],'r')\n",
    "plt.plot(pts2B[0,:],pts2B[1,:],'b')\n",
    "plt.show()\n",
    "\n",
    "# double check that the residuals are the same as the difference in the reprojected coordinates\n",
    "print(\"\\n residuals of camB relative to camA\")\n",
    "print(residuals(pts3,pts2A,camB,paramsB))\n",
    "print(pts2A-pts2B)\n",
    "\n",
    "print(\"\\n residuals of camA relative to camB\")\n",
    "print(residuals(pts3,pts2B,camA,paramsA))\n",
    "print(pts2B-pts2A)\n"
   ]
  },
  {
   "cell_type": "markdown",
   "metadata": {},
   "source": [
    "# 3. Camera Pose Estimation\n",
    "\n",
    "We are now ready to estimate camera pose using optimize.  Implement a function **calibratePose** which takes as input the 3D coordinates of a calibration object, the observed 2D coordinates in the image, and an initial guess of the camera. Your function should use **scipy.optimize.leastsq** to optimize the extrinsic parameters in order to minimize the reprojection error. Since the **residuals** function takes additional arguments and **leastsq** expects a function which only takes the parameter vector as input, you should use Python's **lambda** function to wrap **residuals**, subistituting in the parameters that are fixed during the optimization. Once you have determined the optimum parameters, update the intrinsic parameters to the optimum and return the resulting camera.\n",
    "\n",
    "\n",
    "## 3.1 Implementation"
   ]
  },
  {
   "cell_type": "code",
   "execution_count": 7,
   "metadata": {},
   "outputs": [],
   "source": [
    "def calibratePose(pts3,pts2,cam,params_init):\n",
    "    \"\"\"\n",
    "    Calibrate the provided camera by updating R,t so that pts3 projects\n",
    "    as close as possible to pts2\n",
    "\n",
    "    Parameters\n",
    "    ----------\n",
    "    pts3 : 2D numpy.array (dtype=float)\n",
    "        Coordinates of N points stored in a array of shape (3,N)\n",
    "\n",
    "    pts2 : 2D numpy.array (dtype=float)\n",
    "        Coordinates of N points stored in a array of shape (2,N)\n",
    "\n",
    "    cam : Camera\n",
    "        Initial estimate of camera\n",
    "        \n",
    "    params_init : 1D numpy.array (dtype=float)\n",
    "        Initial estimate of camera extrinsic parameters ()\n",
    "        params[0:2] are the rotation angles, params[2:5] are the translation\n",
    "\n",
    "    Returns\n",
    "    -------\n",
    "    cam : Camera\n",
    "        Refined estimate of camera with updated R,t parameters\n",
    "        \n",
    "    \"\"\"\n",
    "    \n",
    "    x = lambda a : residuals(pts3, pts2, cam, a)\n",
    "    \n",
    "    params = scipy.optimize.leastsq(x, params_init)[0]\n",
    "    print(params)\n",
    "    \n",
    "    cam.update_extrinsics(params)\n",
    "    \n",
    "    return cam\n",
    "    "
   ]
  },
  {
   "cell_type": "markdown",
   "metadata": {},
   "source": [
    "# 3.2 Synthetic Test Example and Failure Cases\n",
    "\n",
    "Use the code below to check that your calibrate function works. Add some code to also visualize the point locations in 3D and the location and orientation of the camera (i.e., using the 3D plotting functions from Assignment 2)\n",
    "\n",
    "Once you are confident that your calibration function is behaving correctly, you should experiment with changing the initial parameters.  Find a set of initial parameters which yields a ***wrong*** solution (i.e. where the Final Camera is not similar to the True Camera).  In the text box below indicate what bad initialization you used and the resulting set of camera parameters after the optimization. Give a brief explanation of where this bad camera is located and what direction it is oriented in.   "
   ]
  },
  {
   "cell_type": "markdown",
   "metadata": {},
   "source": [
    "**I used the following values for the params_init: [0,20,2,43,0,-2]. This set the camera 20 down the y axis and 2 down the z axis, and rotated the camera in the x axis by 43 degrees and -2 around the z axis. The resulting final camera had the following values: R=[[-0.5564  0.5705  0.6041]\n",
    " [ 0.4453 -0.4092  0.7964]\n",
    " [ 0.7016  0.7121 -0.0264]] \n",
    " t = [[2.1121 2.1617 2.8961]]**"
   ]
  },
  {
   "cell_type": "code",
   "execution_count": 8,
   "metadata": {
    "scrolled": false
   },
   "outputs": [
    {
     "name": "stdout",
     "output_type": "stream",
     "text": [
      "\n",
      " True Camera\n",
      "Camera : \n",
      " f=50 \n",
      " c=[[50 50]] \n",
      " R=[[ 1.      0.      0.    ]\n",
      " [ 0.      0.9848 -0.1736]\n",
      " [ 0.      0.1736  0.9848]] \n",
      " t = [[-1 -1 -2]]\n",
      "\n",
      " Initial Camera\n",
      "Camera : \n",
      " f=50 \n",
      " c=[[50 50]] \n",
      " R=[[1. 0. 0.]\n",
      " [0. 1. 0.]\n",
      " [0. 0. 1.]] \n",
      " t = [[ 0  0 -2]]\n",
      "[10.0069  0.541  -0.4012 -1.0188 -0.9678 -1.9682]\n",
      "\n",
      " Final Camera\n",
      "Camera : \n",
      " f=50 \n",
      " c=[[50 50]] \n",
      " R=[[ 0.9999  0.0085  0.0081]\n",
      " [-0.007   0.9848 -0.1738]\n",
      " [-0.0094  0.1738  0.9847]] \n",
      " t = [[-1.0188 -0.9678 -1.9682]]\n"
     ]
    },
    {
     "data": {
      "image/png": "[encoded data removed]",
      "text/plain": [
       "<Figure size 432x288 with 1 Axes>"
      ]
     },
     "metadata": {
      "needs_background": "light"
     },
     "output_type": "display_data"
    },
    {
     "data": {
      "text/plain": [
       "Text(0.5, 0.92, 'scene 3D view')"
      ]
     },
     "execution_count": 8,
     "metadata": {},
     "output_type": "execute_result"
    },
    {
     "data": {
      "image/png": "[encoded data removed]",
      "text/plain": [
       "<Figure size 432x288 with 1 Axes>"
      ]
     },
     "metadata": {
      "needs_background": "light"
     },
     "output_type": "display_data"
    }
   ],
   "source": [
    "# 3D calibration object\n",
    "pts3 = np.array([[0,0,0],[0,0,1],[0,1,1],[0,1,0],[1,1,0],[1,0,0],[1,0,1],[1,1,1]]).T\n",
    "\n",
    "# true camera\n",
    "cam_true = Camera(f=50,c=np.array([[50,50]]).T,t=np.array([[-1,-1,-2]]).T, R=makerotation(10,0,0))\n",
    "\n",
    "print(\"\\n True Camera\")\n",
    "print(cam_true)\n",
    "\n",
    "# image of calibration object with some simulated noise in the 2D locations\n",
    "pts2 = cam_true.project(pts3)\n",
    "noiselevel = 0.5\n",
    "pts2 = pts2 + noiselevel*np.random.randn(pts2.shape[0],pts2.shape[1])\n",
    "\n",
    "# initial guess of camera params\n",
    "cam = Camera(f=50,c=np.array([[50,50]]).T,t=np.array([[0,0,0]]).T, R=makerotation(0,0,0))\n",
    "params_init = np.array([0,0,0,0,0,-2]) \n",
    "cam.update_extrinsics(params_init)\n",
    "\n",
    "print(\"\\n Initial Camera\")\n",
    "print(cam)\n",
    "pts2init = cam.project(pts3)\n",
    "\n",
    "# now run calibration\n",
    "cam = calibratePose(pts3,pts2,cam,params_init)\n",
    "\n",
    "print(\"\\n Final Camera\")\n",
    "print(cam)\n",
    "pts2final = cam.project(pts3)\n",
    "\n",
    "#\n",
    "# Plot the true, initial and final reprojections\n",
    "# The final reprojection should be on top of the true image\n",
    "#\n",
    "plt.plot(pts2[0,:],pts2[1,:],'bo')\n",
    "plt.plot(pts2init[0,:],pts2init[1,:],'r')\n",
    "plt.plot(pts2final[0,:],pts2final[1,:],'k')\n",
    "plt.show()\n",
    "\n",
    "#\n",
    "# Add some additional visualiztion here to show the points in 3D and the locations and orientations\n",
    "# of cam_true and cam.  You can either use a 3D plot or show multiple 2D plots (e.g. overhead\n",
    "# and side views)\n",
    "#\n",
    "\n",
    "lookL = np.hstack((cam_true.t,cam_true.t+cam_true.R @ np.array([[0.5,0.5,0.5]]).T))\n",
    "lookR = np.hstack((cam.t,cam.t+cam.R @ np.array([[0.5,0.5,0.5]]).T))\n",
    "\n",
    "# visualize the left and right image overlaid\n",
    "fig = plt.figure()\n",
    "ax = fig.add_subplot(2,2,4, projection='3d')\n",
    "ax.plot(pts3[0,:],pts3[1,:],pts3[2,:],'.')\n",
    "ax.plot(cam.t[0],cam.t[1],cam.t[2],'ro')\n",
    "ax.plot(cam_true.t[0],cam_true.t[1],cam_true.t[2],'bo')\n",
    "ax.plot(lookL[0,:],lookL[1,:],lookL[2,:],'b')\n",
    "ax.plot(lookR[0,:],lookR[1,:],lookR[2,:],'r')\n",
    "visutils.set_axes_equal_3d(ax)\n",
    "visutils.label_axes(ax)\n",
    "plt.title('scene 3D view')\n",
    "\n"
   ]
  },
  {
   "cell_type": "markdown",
   "metadata": {},
   "source": [
    "# 4. Calibration from real images\n",
    "\n",
    "There is a provided set of calibration images (images of a planar checkerboard) along with stereo pair depicting an object. In order to calibrate the intrinsic camera parameters we will use the OpenCV library which includes functionality for automatically detecting corners of the checkerboard and estimating intrinsic parameters. To install OpenCV python libraries in your Anaconda environment. You can do this from the terminal via the command **conda install opencv** or via the Anconda Navigator gui.\n",
    "\n",
    "I have provide a standalone script **calibrate.py** which uses OpenCV to carry out calibration of the camera intrinsic parameters for a series of checkerboard images. Read through the provided script to understand the code and modify file paths as necessary in order to compute the intrinsic camera parameters from the set of provided calibration images.\n",
    "\n",
    "\n",
    "## 4.1 Implementation\n",
    "\n",
    "Fill in the code snippet below to carry out the following steps.\n",
    "\n",
    "1. Load in the intrinsic parameter calibration data saved by the script in *calibration.pickle*. Since our camera model assumes that the focal length is the same in the x and y axes, you can set your f to be the average of the two estimated by the script.\n",
    "\n",
    "2. Load in the test images *Left.jpg* and *Right.jpg* and use the **cv2.findChessboardCorners** function in order to automatically get the 2D coordinates of the corners in the image.\n",
    "\n",
    "3. Specify the true 3D coordinates of the 6x8 grid of checkerboard corners. The squares are 2.8cm x 2.8cm.\n",
    "\n",
    "5. Use your **calibratePose** function to estimate the R,t for each camera. You will likely need to experiment with selecting the initial parameters in order to get a good solution (e.g., translate so the cameras have positive z coordinates and rotate so they are looking down on the checkerboard).\n"
   ]
  },
  {
   "cell_type": "code",
   "execution_count": 1,
   "metadata": {
    "scrolled": false
   },
   "outputs": [
    {
     "ename": "ModuleNotFoundError",
     "evalue": "No module named 'cv2'",
     "output_type": "error",
     "traceback": [
      "\u001b[1;31m---------------------------------------------------------------------------\u001b[0m",
      "\u001b[1;31mModuleNotFoundError\u001b[0m                       Traceback (most recent call last)",
      "\u001b[1;32m<ipython-input-1-7f626970414e>\u001b[0m in \u001b[0;36m<module>\u001b[1;34m\u001b[0m\n\u001b[1;32m----> 1\u001b[1;33m \u001b[1;32mimport\u001b[0m \u001b[0mcv2\u001b[0m\u001b[1;33m\u001b[0m\u001b[1;33m\u001b[0m\u001b[0m\n\u001b[0m\u001b[0;32m      2\u001b[0m \u001b[1;33m\u001b[0m\u001b[0m\n\u001b[0;32m      3\u001b[0m \u001b[1;32mdef\u001b[0m \u001b[0mtriangulate\u001b[0m\u001b[1;33m(\u001b[0m\u001b[0mpts2L\u001b[0m\u001b[1;33m,\u001b[0m \u001b[0mcamL\u001b[0m\u001b[1;33m,\u001b[0m \u001b[0mpts2R\u001b[0m\u001b[1;33m,\u001b[0m \u001b[0mcamR\u001b[0m\u001b[1;33m)\u001b[0m\u001b[1;33m:\u001b[0m\u001b[1;33m\u001b[0m\u001b[1;33m\u001b[0m\u001b[0m\n\u001b[0;32m      4\u001b[0m     '''\n\u001b[0;32m      5\u001b[0m     \u001b[0mTriangulate\u001b[0m \u001b[0mthe\u001b[0m \u001b[0mset\u001b[0m \u001b[0mof\u001b[0m \u001b[0mpoints\u001b[0m \u001b[0mseen\u001b[0m \u001b[0mat\u001b[0m \u001b[0mlocation\u001b[0m \u001b[0mpts2L\u001b[0m \u001b[1;33m/\u001b[0m \u001b[0mpts2R\u001b[0m \u001b[1;32min\u001b[0m \u001b[0mthe\u001b[0m\u001b[1;33m\u001b[0m\u001b[1;33m\u001b[0m\u001b[0m\n",
      "\u001b[1;31mModuleNotFoundError\u001b[0m: No module named 'cv2'"
     ]
    }
   ],
   "source": [
    "import cv2\n",
    "\n",
    "def triangulate(pts2L, camL, pts2R, camR):\n",
    "    '''\n",
    "    Triangulate the set of points seen at location pts2L / pts2R in the \n",
    "    corresponding pair of cameras. Return the 3D coords relative to the\n",
    "    Global coord system.\n",
    "    '''\n",
    "    npts = pts2L.shape[1]\n",
    "    \n",
    "    qL = (pts2L - camL.c) / camL.f\n",
    "    qL = np.vstack((qL, np.ones((1, npts))))\n",
    "    \n",
    "    qR = (pts2R - camR.c) / camR.f\n",
    "    qR = np.vstack((qR, np.ones((1, npts))))\n",
    "    \n",
    "    R = camL.R.T @ camR.R\n",
    "    t = camL.R.T @ (camR.t - camL.t)\n",
    "    xL = np.ones(qL.shape, dtype=float)\n",
    "    xR = np.ones(qR.shape, dtype=float)\n",
    "    for i in range(npts):\n",
    "        A = np.vstack((qL[:, i], -R @ qR[:, i])).T\n",
    "        z, _, _, _ = np.linalg.lstsq(A, t, rcond=None)\n",
    "        xL[:, i] = z[0] * qL[:, i]\n",
    "        xR[:, i] = z[1] * qR[:, i]\n",
    "    pts3L = camL.R @ xL + camL.t\n",
    "    pts3R = camR.R @ xR + camR.t\n",
    "    pts3 = .5 * (pts3L + pts3R)\n",
    "    return pts3\n",
    "\n",
    "# load in the intrinsic camera parameters from 'calibration.pickle'\n",
    "camParams = np.load(\"calibration.pickle\")\n",
    "\n",
    "\n",
    "# create Camera objects representing the left and right cameras\n",
    "# use the known intrinsic parameters you loaded in.\n",
    "focalLength = (camParams[\"fx\"] + camParams[\"fy\"])/2\n",
    "prinPoint = np.array([[camParams[\"cx\"]], \n",
    "                     [camParams[\"cy\"]]])\n",
    "\n",
    "rotationMatrix = np.array([[0, 0, 0],\n",
    "                          [0, 0, 0], \n",
    "                          [0, 0, 0]])\n",
    "\n",
    "translationMatrix = np.array([[0],\n",
    "                            [0],\n",
    "                            [0]])\n",
    "\n",
    "camL = Camera(focalLength, prinPoint, rotationMatrix, translationMatrix)\n",
    "camR = Camera(focalLength, prinPoint, rotationMatrix, translationMatrix)\n",
    "\n",
    "# load in the left and right images and find the coordinates of\n",
    "# the chessboard corners using OpenCV\n",
    "imgL = plt.imread('Left.jpg')\n",
    "ret, cornersL = cv2.findChessboardCorners(imgL, (8,6), None)\n",
    "pts2L = cornersL.squeeze().T\n",
    "\n",
    "imgR = plt.imread('Right.jpg')\n",
    "ret, cornersR = cv2.findChessboardCorners(imgR, (8,6), None)\n",
    "pts2R = cornersR.squeeze().T\n",
    "\n",
    "# generate the known 3D point coordinates of points on the checkerboard in cm\n",
    "pts3 = np.zeros((3,6*8))\n",
    "yy,xx = np.meshgrid(np.arange(8),np.arange(6))\n",
    "pts3[0,:] = 2.8*xx.reshape(1,-1)\n",
    "pts3[1,:] = 2.8*yy.reshape(1,-1)\n",
    "\n",
    "\n",
    "# Now use your calibratePose function to get the extrinsic parameters\n",
    "# for the two images. You may need to experiment with the initialization\n",
    "# in order to get a good result\n",
    "\n",
    "params_init = np.array([0, 0, 0, 0, 0, -2])\n",
    "\n",
    "camL = calibratePose(pts3, pts2L, camL, params_init)\n",
    "camR = calibratePose(pts3, pts2R, camR, params_init)\n",
    "\n",
    "print(camL)\n",
    "print(camR)\n",
    "\n",
    "\n",
    "\n",
    "# As a final test, triangulate the corners of the checkerboard to get back there 3D locations\n",
    "pts3r = triangulate(pts2L, camL, pts2R, camR)\n",
    "\n",
    "# Display the reprojected points overlayed on the images to make \n",
    "# sure they line up\n",
    "plt.rcParams['figure.figsize']=[15,15]\n",
    "pts2Lp = camL.project(pts3)\n",
    "plt.imshow(imgL)\n",
    "plt.plot(pts2Lp[0,:],pts2Lp[1,:],'bo')\n",
    "plt.plot(pts2L[0,:],pts2L[1,:],'rx')\n",
    "plt.show()\n",
    "\n",
    "pts2Rp = camR.project(pts3)\n",
    "plt.imshow(imgR)\n",
    "plt.plot(pts2Rp[0,:],pts2Rp[1,:],'bo')\n",
    "plt.plot(pts2R[0,:],pts2R[1,:],'rx')\n",
    "plt.show()\n"
   ]
  },
  {
   "cell_type": "markdown",
   "metadata": {},
   "source": [
    "The code below provides a visualization of the estimate camera positions relative to the checkerboard."
   ]
  },
  {
   "cell_type": "code",
   "execution_count": 10,
   "metadata": {},
   "outputs": [
    {
     "data": {
      "text/plain": [
       "Text(0, 0.5, 'y')"
      ]
     },
     "execution_count": 10,
     "metadata": {},
     "output_type": "execute_result"
    },
    {
     "data": {
      "image/png": "[encoded data removed]",
      "text/plain": [
       "<Figure size 1080x1080 with 4 Axes>"
      ]
     },
     "metadata": {
      "needs_background": "light"
     },
     "output_type": "display_data"
    }
   ],
   "source": [
    "# generate coordinates of a line segment running from the center\n",
    "# of the camera to 3 units in front of the camera\n",
    "lookL = np.hstack((camL.t,camL.t+camL.R @ np.array([[0,0,2]]).T))\n",
    "lookR = np.hstack((camR.t,camR.t+camR.R @ np.array([[0,0,2]]).T))\n",
    "\n",
    "# visualize the left and right image overlaid\n",
    "fig = plt.figure()\n",
    "ax = fig.add_subplot(2,2,1,projection='3d')\n",
    "ax.plot(pts3[0,:],pts3[1,:],pts3[2,:],'.')\n",
    "ax.plot(pts3r[0,:],pts3r[1,:],pts3r[2,:],'rx')\n",
    "ax.plot(camR.t[0],camR.t[1],camR.t[2],'ro')\n",
    "ax.plot(camL.t[0],camL.t[1],camL.t[2],'bo')\n",
    "ax.plot(lookL[0,:],lookL[1,:],lookL[2,:],'b')\n",
    "ax.plot(lookR[0,:],lookR[1,:],lookR[2,:],'r')\n",
    "visutils.set_axes_equal_3d(ax)\n",
    "visutils.label_axes(ax)\n",
    "plt.title('scene 3D view')\n",
    "\n",
    "ax = fig.add_subplot(2,2,2)\n",
    "ax.plot(pts3[0,:],pts3[2,:],'.')\n",
    "ax.plot(pts3r[0,:],pts3r[2,:],'rx')\n",
    "ax.plot(camR.t[0],camR.t[2],'ro')\n",
    "ax.plot(camL.t[0],camL.t[2],'bo')\n",
    "ax.plot(lookL[0,:],lookL[2,:],'b')\n",
    "ax.plot(lookR[0,:],lookR[2,:],'r')\n",
    "plt.title('XZ-view')\n",
    "plt.grid()\n",
    "plt.xlabel('x')\n",
    "plt.ylabel('z')\n",
    "\n",
    "ax = fig.add_subplot(2,2,3)\n",
    "ax.plot(pts3[1,:],pts3[2,:],'.')\n",
    "ax.plot(pts3r[1,:],pts3r[2,:],'rx')\n",
    "ax.plot(camR.t[1],camR.t[2],'ro')\n",
    "ax.plot(camL.t[1],camL.t[2],'bo')\n",
    "ax.plot(lookL[1,:],lookL[2,:],'b')\n",
    "ax.plot(lookR[1,:],lookR[2,:],'r')\n",
    "plt.title('YZ-view')\n",
    "plt.grid()\n",
    "plt.xlabel('y')\n",
    "plt.ylabel('z')\n",
    "\n",
    "ax = fig.add_subplot(2,2,4)\n",
    "ax.plot(pts3[0,:],pts3[1,:],'.')\n",
    "ax.plot(pts3r[0,:],pts3r[1,:],'rx')\n",
    "ax.plot(camR.t[0],camR.t[1],'ro')\n",
    "ax.plot(camL.t[0],camL.t[1],'bo')\n",
    "ax.plot(lookL[0,:],lookL[1,:],'b')\n",
    "ax.plot(lookR[0,:],lookR[1,:],'r')\n",
    "plt.title('XY-view')\n",
    "plt.grid()\n",
    "plt.xlabel('x')\n",
    "plt.ylabel('y')"
   ]
  },
  {
   "cell_type": "markdown",
   "metadata": {},
   "source": [
    "***\n",
    "## 4.2 Recovered Pose\n",
    "Using the provided calibration images, what are the recovered parameters for the left and right cameras?  How far apart are the camera centers in centimeters (i.e. what is the baseline) ?"
   ]
  },
  {
   "cell_type": "code",
   "execution_count": 11,
   "metadata": {},
   "outputs": [
    {
     "name": "stdout",
     "output_type": "stream",
     "text": [
      "Camera : \n",
      " f=1561.0139692925732 \n",
      " c=[[1021.1465  755.8365]] \n",
      " R=[[ 0.7928  0.5479 -0.2671]\n",
      " [ 0.6058 -0.66    0.4443]\n",
      " [ 0.0671 -0.514  -0.8552]] \n",
      " t = [[20.2533 -0.3845 37.7861]]\n",
      "Camera : \n",
      " f=1561.0139692925732 \n",
      " c=[[1021.1465  755.8365]] \n",
      " R=[[ 0.9506  0.271  -0.1511]\n",
      " [ 0.3029 -0.7042  0.6421]\n",
      " [ 0.0676 -0.6562 -0.7516]] \n",
      " t = [[ 17.4715 -11.9475  24.0513]]\n",
      "18.168304524200504\n"
     ]
    }
   ],
   "source": [
    "print(camL)\n",
    "print(camR)\n",
    "\n",
    "baseline = camL.t - camR.t\n",
    "baseline = np.linalg.norm(baseline)\n",
    "print(baseline)"
   ]
  },
  {
   "cell_type": "markdown",
   "metadata": {},
   "source": [
    "**The parameters for the left and right camera are as follows respetivey: f=1561.0139692925732 \n",
    " c=[[1021.1465  755.8365]] \n",
    " R=[[ 0.7928  0.5479 -0.2671]\n",
    " [ 0.6058 -0.66    0.4443]\n",
    " [ 0.0671 -0.514  -0.8552]] \n",
    " t = [[20.2533 -0.3845 37.7861]]**\n",
    " \n",
    " **f=1561.0139692925732 \n",
    " c=[[1021.1465  755.8365]] \n",
    " R=[[ 0.9506  0.271  -0.1511]\n",
    " [ 0.3029 -0.7042  0.6421]\n",
    " [ 0.0676 -0.6562 -0.7516]] \n",
    " t = [[ 17.4715 -11.9475  24.0513]]**\n",
    " \n",
    "**By subtracting the cameras translation vertices, I am able to find the vertex difference. Afterwards I found the magnitude of the vector to determine a baseline**"
   ]
  },
  {
   "cell_type": "markdown",
   "metadata": {},
   "source": [
    "***\n",
    "## 4.3 Reconstruction Accuracy\n",
    "\n",
    "Using the estimated camL and camR and the 2D point locations, triangulate to get 3D locations. What is the average error (in cm) for your recovered 3D locations of the grid corner points relative to their true coordinates?  Where might this error be coming from?"
   ]
  },
  {
   "cell_type": "code",
   "execution_count": 12,
   "metadata": {},
   "outputs": [
    {
     "name": "stdout",
     "output_type": "stream",
     "text": [
      "0.23270915265412126\n"
     ]
    }
   ],
   "source": [
    "case1 = pts3 - pts3r\n",
    "sum1 = 0\n",
    "index = 0\n",
    "while(index < pts3.shape[1]):\n",
    "    \n",
    "    sum1 += np.linalg.norm(case1[:, index])\n",
    "    \n",
    "    index += 1\n",
    "\n",
    "error = sum1/(index+1)\n",
    "print(error)"
   ]
  },
  {
   "cell_type": "markdown",
   "metadata": {},
   "source": [
    "**Taking the difference of the the actual 3d points and the recovered ones allowed me to find the error difference between the two. This error might come from least squares estimation.**"
   ]
  },
  {
   "cell_type": "markdown",
   "metadata": {},
   "source": [
    "\n",
    "\n",
    "***\n",
    "## 4.4 Focal Length\n",
    "\n",
    "The checkerboard photos were taken with an iPhone Xs. Teardowns of this device reveal that the sensor is 5.6mm wide. Based on this and your recovered value for f, what was the focal length in millimeters? Explain how you computed this. Is the result you get a reasonable match to the published focal length of of 4.25mm?"
   ]
  },
  {
   "cell_type": "code",
   "execution_count": 13,
   "metadata": {},
   "outputs": [
    {
     "name": "stdout",
     "output_type": "stream",
     "text": [
      "4.336149914701592\n"
     ]
    }
   ],
   "source": [
    "sensor = 5.6\n",
    "print(camR.f * (sensor/imgR.shape[0]))"
   ]
  },
  {
   "cell_type": "markdown",
   "metadata": {},
   "source": [
    "**I got this result by multiplying the sensor by the focal length and dividing by the image width. 4.33mm is a resonable enough answer that is close enough to the 4.25mm published focal length**"
   ]
  },
  {
   "cell_type": "code",
   "execution_count": null,
   "metadata": {},
   "outputs": [],
   "source": []
  }
 ],
 "metadata": {
  "kernelspec": {
   "display_name": "Python 3",
   "language": "python",
   "name": "python3"
  },
  "language_info": {
   "codemirror_mode": {
    "name": "ipython",
    "version": 3
   },
   "file_extension": ".py",
   "mimetype": "text/x-python",
   "name": "python",
   "nbconvert_exporter": "python",
   "pygments_lexer": "ipython3",
   "version": "3.7.1"
  }
 },
 "nbformat": 4,
 "nbformat_minor": 2
}
